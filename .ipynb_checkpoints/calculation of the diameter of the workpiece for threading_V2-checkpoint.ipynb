{
 "cells": [
  {
   "cell_type": "code",
   "execution_count": null,
   "id": "0bc009c0",
   "metadata": {},
   "outputs": [
    {
     "name": "stderr",
     "output_type": "stream",
     "text": [
      "IOPub data rate exceeded.\n",
      "The notebook server will temporarily stop sending output\n",
      "to the client in order to avoid crashing it.\n",
      "To change this limit, set the config variable\n",
      "`--NotebookApp.iopub_data_rate_limit`.\n",
      "\n",
      "Current values:\n",
      "NotebookApp.iopub_data_rate_limit=1000000.0 (bytes/sec)\n",
      "NotebookApp.rate_limit_window=3.0 (secs)\n",
      "\n"
     ]
    }
   ],
   "source": [
    "import math as mt\n",
    "import ipywidgets as widgets\n",
    "\n",
    "# Исходные параметры резьбы\n",
    "\n",
    "# Диаметр заготовки\n",
    "Dz = 4.2\n",
    "# Высота резьбы\n",
    "h = 3.1\n",
    "# Шаг резьбы\n",
    "P = 1.4\n",
    "# Притупление профиля резьбы\n",
    "S = 0.0001\n",
    "# Угол профиля резьбы\n",
    "alfa = 60\n",
    "# Число заходов резьбы\n",
    "n = 2\n",
    "\n",
    "if (Dz<=0) or (h<=0) or (P<=0) or (S<=0) or (alfa<=0):\n",
    "    print ('Все параметры (Dz, h, P, S) должны быть > 0')\n",
    "elif h>Dz:\n",
    "    print('Ошибка при вводе d заг и h, должно быть так: d заг > h')\n",
    "elif S>P:\n",
    "    print('Ошибка при вводе P и S, должно быть так: P > S')\n",
    "elif (n == int(1)) or (n == int(2)) or (n == int(3)):\n",
    "    \n",
    "    alfa =alfa*mt.pi/180;\n",
    "    m =2*h*(mt.sin(alfa/2)/mt.cos(alfa/2))+S;\n",
    "    c =h*(2*S+m)/(3*(S+m));\n",
    "    Dzp = 0\n",
    "    delta = 0\n",
    "    while Dz != Dzp:\n",
    "        delta = delta + 0.00001;\n",
    "        Dv = Dz - delta;\n",
    "        Dn = Dv + 2*h;\n",
    "\n",
    "        Vi =(h*(m+S)/2)*mt.sqrt(pow(mt.pi*(Dv+2*c),2)+pow(P,2));\n",
    "        Vv =(mt.pi*Dv*Dv*P)/4;\n",
    "        Dzp = mt.sqrt((4*(Vv+n*Vi)/(mt.pi*P)));\n",
    "        Dzp = Dzp*1000;\n",
    "        Dz0 = round(Dzp, 0);\n",
    "        Dzp = Dz0;\n",
    "        Dzp = Dzp/1000;\n",
    "        if Dv < 0:\n",
    "            print ('Нет решений задачи -уменьшите точность d заг - диаметр заготовки(проволоки) ');\n",
    "        else:\n",
    "            fi =mt.atan(P/(mt.pi*(Dv+2*c)));\n",
    "\n",
    "    print('');\n",
    "    print('Исходные параметры резьбы');\n",
    "    print('');\n",
    "    print('Диаметр заготовки             d заготовки= ',  str(Dz));\n",
    "    print('Высота профиля резьбы                   h= ',  str(h));\n",
    "    print('Наружний диаметр резьбы             d нар= ',  str(Dn));\n",
    "    print('Внутренний диаметр резьбы         d внутр= ',  str(Dv));\n",
    "    print('Шаг резьбы                              P= ',  str(P));\n",
    "    print('Притупление профиля резьбы              S= ',  str(S));\n",
    "    print('Угол профиля резьбы                  alfa= ',  str(alfa));\n",
    "    print('Число заходов резьбы                    N= ',  str(n));\n",
    "    print('');\n",
    "    print('Угол подъема резьбы                    fi= ',  str(fi));\n",
    "    print('');\n",
    "    print('=========================================================================');\n",
    "    print('');\n",
    "else:\n",
    "    print('Ошибка при вводе n, должно быть так: n = 1 или 2 или 3')"
   ]
  }
 ],
 "metadata": {
  "kernelspec": {
   "display_name": "Python 3 (ipykernel)",
   "language": "python",
   "name": "python3"
  },
  "language_info": {
   "codemirror_mode": {
    "name": "ipython",
    "version": 3
   },
   "file_extension": ".py",
   "mimetype": "text/x-python",
   "name": "python",
   "nbconvert_exporter": "python",
   "pygments_lexer": "ipython3",
   "version": "3.10.5"
  }
 },
 "nbformat": 4,
 "nbformat_minor": 5
}
