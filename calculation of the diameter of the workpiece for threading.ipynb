{
 "cells": [
  {
   "cell_type": "code",
   "execution_count": 1,
   "id": "0bc009c0",
   "metadata": {},
   "outputs": [
    {
     "name": "stdout",
     "output_type": "stream",
     "text": [
      "\n",
      "Исходные параметры резьбы\n",
      "\n",
      "Наружный диаметр резьбы             d нар=  4.2\n",
      "Внутренний диаметр резьбы         d внутр=  3.1\n",
      "Шаг резьбы                              P=  1.4\n",
      "Притупление профиля резьбы              S=  0.0001\n",
      "Угол профиля резьбы                  alfa=  60.0\n",
      "Число заходов резьбы                    N=  2\n",
      "\n",
      "Расчетный диаметр заготовки   d заготовки=  3.62\n",
      "Угол подъема резьбы                    fi=  7.32\n",
      "\n",
      "=========================================================================\n",
      "\n"
     ]
    }
   ],
   "source": [
    "import math as mt\n",
    "import ipywidgets as widgets\n",
    "\n",
    "# Исходные параметры резьбы\n",
    "\n",
    "# Наружный диаметр резьбы\n",
    "Dn = 4.2\n",
    "# Внутренний диаметр резьбы\n",
    "Dv = 3.1\n",
    "# Шаг резьбы\n",
    "P = 1.4\n",
    "# Притупление профиля резьбы\n",
    "S = 0.0001\n",
    "# Угол профиля резьбы\n",
    "alfa = 60\n",
    "# Число заходов резьбы\n",
    "n = 2\n",
    "\n",
    "if (Dn<=0) or (Dv<=0) or (P<=0) or (S<=0) or (alfa<=0):\n",
    "    print ('Все параметры (Dn, Dv, P, S) должны быть > 0')\n",
    "elif Dv>Dn:\n",
    "    print('Ошибка при вводе d нар и d внутр, должно быть так: d нар > d внутр')\n",
    "elif S>P:\n",
    "    print('Ошибка при вводе P и S, должно быть так: P > S')\n",
    "elif (n == int(1)) or (n == int(2)) or (n == int(3)):\n",
    "    h =(Dn-Dv)/2;\n",
    "    alfa =alfa*mt.pi/180;\n",
    "    m =2*h*(mt.sin(alfa/2)/mt.cos(alfa/2))+S;\n",
    "    c =h*(2*S+m)/(3*(S+m));\n",
    "    Vi =(h*(m+S)/2)*mt.sqrt(pow(mt.pi*(Dv+2*c),2)+pow(P,2));\n",
    "    Vv =(mt.pi*Dv*Dv*P)/4;\n",
    "    Dz =mt.sqrt((4*(Vv+n*Vi)/(mt.pi*P)));\n",
    "    fi =mt.atan(P/(mt.pi*(Dv+2*c)))\n",
    "    alfa = round((alfa*180/mt.pi),2)\n",
    "    Dz = round(Dz,2)\n",
    "    fi = round((fi*180/mt.pi),2)\n",
    "    \n",
    "\n",
    "    print('');\n",
    "    print('Исходные параметры резьбы');\n",
    "    print('');\n",
    "    print('Наружный диаметр резьбы             d нар= ',  str(Dn));\n",
    "    print('Внутренний диаметр резьбы         d внутр= ',  str(Dv));\n",
    "    print('Шаг резьбы                              P= ',  str(P));\n",
    "    print('Притупление профиля резьбы              S= ',  str(S));\n",
    "    print('Угол профиля резьбы                  alfa= ',  str(alfa));\n",
    "    print('Число заходов резьбы                    N= ',  str(n));\n",
    "    print('');\n",
    "    print('Расчетный диаметр заготовки   d заготовки= ',  str(Dz));\n",
    "    print('Угол подъема резьбы                    fi= ',  str(fi));\n",
    "    print('');\n",
    "    print('=========================================================================');\n",
    "    print('');\n",
    "else:\n",
    "    print('Ошибка при вводе n, должно быть так: n = 1 или 2 или 3')"
   ]
  },
  {
   "cell_type": "code",
   "execution_count": null,
   "id": "a8b31d61",
   "metadata": {},
   "outputs": [],
   "source": []
  }
 ],
 "metadata": {
  "kernelspec": {
   "display_name": "Python 3",
   "language": "python",
   "name": "python3"
  },
  "language_info": {
   "codemirror_mode": {
    "name": "ipython",
    "version": 3
   },
   "file_extension": ".py",
   "mimetype": "text/x-python",
   "name": "python",
   "nbconvert_exporter": "python",
   "pygments_lexer": "ipython3",
   "version": "3.8.8"
  }
 },
 "nbformat": 4,
 "nbformat_minor": 5
}
